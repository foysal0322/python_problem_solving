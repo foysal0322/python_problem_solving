{
 "cells": [
  {
   "cell_type": "code",
   "execution_count": 16,
   "metadata": {},
   "outputs": [
    {
     "data": {
      "text/plain": [
       "{'A', 'B', 'N'}"
      ]
     },
     "execution_count": 16,
     "metadata": {},
     "output_type": "execute_result"
    }
   ],
   "source": [
    "import itertools as its\n",
    "s=list('BANANA')\n",
    "\n",
    "l=set(s)\n",
    "l"
   ]
  },
  {
   "cell_type": "code",
   "execution_count": 35,
   "metadata": {},
   "outputs": [
    {
     "name": "stdout",
     "output_type": "stream",
     "text": [
      "no\n"
     ]
    }
   ],
   "source": [
    "s='h'\n",
    "if (s=='a' or s=='i' or s=='u'):\n",
    "    print('yes')\n",
    "else:\n",
    "    print('no')\n"
   ]
  },
  {
   "cell_type": "code",
   "execution_count": 101,
   "metadata": {},
   "outputs": [
    {
     "name": "stdout",
     "output_type": "stream",
     "text": [
      "e\n",
      "d\n"
     ]
    }
   ],
   "source": [
    "s='abed'\n",
    "for j in range(0,len(s)):\n",
    "    if((s[j]=='a') or (s[j]=='b')):\n",
    "        pass\n",
    "    else:\n",
    "        print(s[j])\n",
    "      \n",
    "    \n",
    "\n",
    "\n"
   ]
  },
  {
   "cell_type": "code",
   "execution_count": 105,
   "metadata": {},
   "outputs": [
    {
     "name": "stdout",
     "output_type": "stream",
     "text": [
      "B\n",
      "N\n",
      "N\n",
      "BA\n",
      "NA\n",
      "NA\n",
      "BAN\n",
      "NAN\n",
      "BANA\n",
      "NANA\n",
      "BANAN\n",
      "BANANA\n"
     ]
    }
   ],
   "source": [
    "s='BANANA'\n",
    "x=len(s)\n",
    "k=1\n",
    "for i in range(0,len(s)):\n",
    "    for j in range(0,x):\n",
    "        if(s[j]=='A' or s[j]=='E' or s[j]=='I' or s[j]=='O' or s[j]=='U'):\n",
    "            pass\n",
    "        else:\n",
    "            print(s[j:j+k])\n",
    "            \n",
    "        \n",
    "    k=k+1\n",
    "    x=x-1\n",
    "   \n",
    "       "
   ]
  },
  {
   "cell_type": "code",
   "execution_count": null,
   "metadata": {},
   "outputs": [],
   "source": []
  }
 ],
 "metadata": {
  "kernelspec": {
   "display_name": "Python 3",
   "language": "python",
   "name": "python3"
  },
  "language_info": {
   "codemirror_mode": {
    "name": "ipython",
    "version": 3
   },
   "file_extension": ".py",
   "mimetype": "text/x-python",
   "name": "python",
   "nbconvert_exporter": "python",
   "pygments_lexer": "ipython3",
   "version": "3.8.5"
  }
 },
 "nbformat": 4,
 "nbformat_minor": 4
}
