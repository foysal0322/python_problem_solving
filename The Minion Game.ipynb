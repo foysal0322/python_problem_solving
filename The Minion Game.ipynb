{
 "cells": [
  {
   "cell_type": "markdown",
   "metadata": {},
   "source": [
    "# Kevin and Stuart want to play the 'The Minion Game'\n",
    "Game Rules:\n",
    "\n",
    "Both players are given the same string,S.\n",
    "Both players have to make substrings using the letters of the string S.\n",
    "Stuart has to make words starting with consonants.\n",
    "Kevin has to make words starting with vowels.\n",
    "The game ends when both players have made all possible substrings.\n",
    "\n",
    "Scoring:\n",
    "A player gets +1 point for each occurrence of the substring in the string S\n",
    "\n",
    "For Example:\n",
    "String S = BANANA\n",
    "Kevin's vowel beginning word = ANA\n",
    "Here, ANA occurs twice in BANANA. Hence, Kevin will get 2 Points.\n",
    "\n",
    "Your task is to determine the winner of the game and their score.\n",
    "\n",
    "Function Description:\n",
    "\n",
    "Complete the minion_game in the editor below.\n",
    "\n",
    "minion_game has the following parameters:\n",
    "\n",
    "string string: the string to analyze\n",
    "Prints\n",
    "\n",
    "string: the winner's name and score, separated by a space on one line, or Draw if there is no winner\n",
    "\n"
   ]
  },
  {
   "cell_type": "markdown",
   "metadata": {},
   "source": [
    "# Sample Input:\n",
    "BANANA\n",
    "\n",
    "Sample Output:\n",
    "Stuart 12"
   ]
  },
  {
   "cell_type": "code",
   "execution_count": 1,
   "metadata": {},
   "outputs": [],
   "source": [
    "def is_element_in_list(list,element):\n",
    "    '''THIS FUNCTION WILL RETURN TRUE IF THE ELEMENT IS FOUND INSIDE THE GIVEN LIST'''\n",
    "    for i in list:\n",
    "        if (i==element):\n",
    "            return True\n",
    "    return False\n",
    "          \n",
    "        \n",
    "\n"
   ]
  },
  {
   "cell_type": "code",
   "execution_count": 2,
   "metadata": {},
   "outputs": [],
   "source": [
    "def is_vowel(char):\n",
    "    '''this function will return atrue if the char is a vowel, else it will return False'''\n",
    "    if(char=='A' or char=='E' or char=='I' or char=='O' or char=='U'):\n",
    "        return True\n",
    "    else:\n",
    "        return False\n",
    "\n",
    "\n"
   ]
  },
  {
   "cell_type": "code",
   "execution_count": 3,
   "metadata": {},
   "outputs": [],
   "source": [
    "def get_substring_start_with_consonant_or_vowel(string,name):\n",
    "    '''this function will return all possible substring start with consonat character in a linear way'''\n",
    "    #s='BANANA'\n",
    "    \n",
    "    if(name=='Kevin'):\n",
    "        name=False\n",
    "    else:\n",
    "        name=True\n",
    "    x=len(string)\n",
    "    k=1\n",
    "    li=[]\n",
    "\n",
    "    for i in range(0,len(string)):\n",
    "        for j in range(0,x):\n",
    "            if((is_element_in_list(li,string[j:j+k])==True) or (is_vowel(string[j])==name)):\n",
    "                pass\n",
    "            else:\n",
    "                li.append(string[j:j+k])\n",
    "                #print(string[j:j+k])\n",
    "\n",
    "\n",
    "        k=k+1\n",
    "        x=x-1\n",
    "    return li\n",
    "   \n",
    "       "
   ]
  },
  {
   "cell_type": "code",
   "execution_count": null,
   "metadata": {},
   "outputs": [],
   "source": []
  },
  {
   "cell_type": "code",
   "execution_count": null,
   "metadata": {},
   "outputs": [],
   "source": []
  },
  {
   "cell_type": "code",
   "execution_count": 4,
   "metadata": {},
   "outputs": [],
   "source": [
    "def get_all_substring_of_a_string(string):\n",
    "    '''this function will return all possible substring from a string in a linear way'''\n",
    "    \n",
    "    #s='BANANA'\n",
    "    x=len(string)\n",
    "    k=1\n",
    "    substring_list=[]\n",
    "\n",
    "    for i in range(0,len(string)):\n",
    "        for j in range(0,x):\n",
    "            substring_list.append(string[j:j+k])\n",
    "            #print(s[j:j+k])\n",
    "\n",
    "\n",
    "        k=k+1\n",
    "        x=x-1\n",
    "    return substring_list"
   ]
  },
  {
   "cell_type": "code",
   "execution_count": 5,
   "metadata": {},
   "outputs": [],
   "source": [
    "def get_substring_frequency_in_list(string,name):\n",
    "    '''this function will return: how many times an element will occur in the same list'''\n",
    "    #string='BANANA'\n",
    "    score=0\n",
    "    all_substr=get_all_substring_of_a_string(string)\n",
    "    all_consonant_substr=get_substring_start_with_consonant_or_vowel(string,name)\n",
    "    for i in range(0,len(all_consonant_substr)):\n",
    "        for j in range(0,len(all_substr)):\n",
    "            if(all_consonant_substr[i]==all_substr[j]):\n",
    "                score=score+1\n",
    "\n",
    "    return score   \n",
    "      \n",
    "   "
   ]
  },
  {
   "cell_type": "code",
   "execution_count": null,
   "metadata": {},
   "outputs": [],
   "source": []
  },
  {
   "cell_type": "code",
   "execution_count": 6,
   "metadata": {},
   "outputs": [],
   "source": [
    "def the_minion_game(string,name1,name2):\n",
    "    '''Both players are given the same string,S .\n",
    "Both players have to make substrings using the letters of the string S.\n",
    "Stuart has to make words starting with consonants.\n",
    "Kevin has to make words starting with vowels.\n",
    "The game ends when both players have made all possible substrings.'''\n",
    "    score_of_name1=get_substring_frequency_in_list(string,name1)\n",
    "    score_of_name2=get_substring_frequency_in_list(string,name2)\n",
    "    if(score_of_name1>score_of_name2):\n",
    "        print(name1+' '+str(score_of_name1))\n",
    "    else:\n",
    "        print(name2+' '+str(score_of_name2))\n",
    "    "
   ]
  },
  {
   "cell_type": "code",
   "execution_count": null,
   "metadata": {},
   "outputs": [],
   "source": []
  },
  {
   "cell_type": "code",
   "execution_count": null,
   "metadata": {},
   "outputs": [],
   "source": []
  },
  {
   "cell_type": "code",
   "execution_count": 7,
   "metadata": {},
   "outputs": [
    {
     "name": "stdout",
     "output_type": "stream",
     "text": [
      "BANANA\n",
      "Stuart 12\n"
     ]
    }
   ],
   "source": [
    "S=input()\n",
    "the_minion_game(S,'Stuart','Kevin')"
   ]
  },
  {
   "cell_type": "code",
   "execution_count": null,
   "metadata": {},
   "outputs": [],
   "source": []
  },
  {
   "cell_type": "code",
   "execution_count": null,
   "metadata": {},
   "outputs": [],
   "source": []
  }
 ],
 "metadata": {
  "kernelspec": {
   "display_name": "Python 3",
   "language": "python",
   "name": "python3"
  },
  "language_info": {
   "codemirror_mode": {
    "name": "ipython",
    "version": 3
   },
   "file_extension": ".py",
   "mimetype": "text/x-python",
   "name": "python",
   "nbconvert_exporter": "python",
   "pygments_lexer": "ipython3",
   "version": "3.8.5"
  }
 },
 "nbformat": 4,
 "nbformat_minor": 4
}
